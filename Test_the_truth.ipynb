{
 "cells": [
  {
   "cell_type": "code",
   "execution_count": 39,
   "metadata": {},
   "outputs": [],
   "source": [
    "from bs4 import BeautifulSoup\n",
    "from selenium import webdriver\n",
    "import pandas as pd\n",
    "import time\n",
    "\n",
    "driver = webdriver.Chrome()"
   ]
  },
  {
   "cell_type": "code",
   "execution_count": 38,
   "metadata": {},
   "outputs": [],
   "source": [
    "driver.quit()"
   ]
  },
  {
   "cell_type": "code",
   "execution_count": 50,
   "metadata": {},
   "outputs": [
    {
     "ename": "AttributeError",
     "evalue": "'NoneType' object has no attribute 'get_text'",
     "output_type": "error",
     "traceback": [
      "\u001b[0;31m---------------------------------------------------------------------------\u001b[0m",
      "\u001b[0;31mAttributeError\u001b[0m                            Traceback (most recent call last)",
      "Cell \u001b[0;32mIn[50], line 20\u001b[0m\n\u001b[1;32m     18\u001b[0m \u001b[38;5;28;01mfor\u001b[39;00m item \u001b[38;5;129;01min\u001b[39;00m soup\u001b[38;5;241m.\u001b[39mfind_all(\u001b[38;5;124m'\u001b[39m\u001b[38;5;124mtr\u001b[39m\u001b[38;5;124m'\u001b[39m, style\u001b[38;5;241m=\u001b[39m \u001b[38;5;124m\"\u001b[39m\u001b[38;5;124mcursor:pointer\u001b[39m\u001b[38;5;124m\"\u001b[39m):\n\u001b[1;32m     19\u001b[0m     name\u001b[38;5;241m.\u001b[39mappend(item\u001b[38;5;241m.\u001b[39mfind( \u001b[38;5;124m'\u001b[39m\u001b[38;5;124mp\u001b[39m\u001b[38;5;124m'\u001b[39m, {\u001b[38;5;124m\"\u001b[39m\u001b[38;5;124mclass\u001b[39m\u001b[38;5;124m\"\u001b[39m : \u001b[38;5;124m\"\u001b[39m\u001b[38;5;124msc-71024e3e-0 ehyBa-d\u001b[39m\u001b[38;5;124m\"\u001b[39m})\u001b[38;5;241m.\u001b[39mget_text())\n\u001b[0;32m---> 20\u001b[0m     price\u001b[38;5;241m.\u001b[39mappend(\u001b[43mitem\u001b[49m\u001b[38;5;241;43m.\u001b[39;49m\u001b[43mfind\u001b[49m\u001b[43m(\u001b[49m\u001b[43m \u001b[49m\u001b[38;5;124;43m'\u001b[39;49m\u001b[38;5;124;43mdiv\u001b[39;49m\u001b[38;5;124;43m'\u001b[39;49m\u001b[43m,\u001b[49m\u001b[43m \u001b[49m\u001b[43m{\u001b[49m\u001b[38;5;124;43m\"\u001b[39;49m\u001b[38;5;124;43mclass\u001b[39;49m\u001b[38;5;124;43m\"\u001b[39;49m\u001b[43m \u001b[49m\u001b[43m:\u001b[49m\u001b[43m \u001b[49m\u001b[38;5;124;43m\"\u001b[39;49m\u001b[38;5;124;43msc-a093f09c-0 gPTgRa\u001b[39;49m\u001b[38;5;124;43m\"\u001b[39;49m\u001b[43m}\u001b[49m\u001b[43m)\u001b[49m\u001b[38;5;241;43m.\u001b[39;49m\u001b[43mget_text\u001b[49m())\n\u001b[1;32m     21\u001b[0m     market_cap\u001b[38;5;241m.\u001b[39mappend(item\u001b[38;5;241m.\u001b[39mfind( \u001b[38;5;124m'\u001b[39m\u001b[38;5;124mspan\u001b[39m\u001b[38;5;124m'\u001b[39m, {\u001b[38;5;124m\"\u001b[39m\u001b[38;5;124mclass\u001b[39m\u001b[38;5;124m\"\u001b[39m : \u001b[38;5;124m\"\u001b[39m\u001b[38;5;124msc-baf034bc-0 bpcTPe\u001b[39m\u001b[38;5;124m\"\u001b[39m})\u001b[38;5;241m.\u001b[39mget_text())\n\u001b[1;32m     22\u001b[0m     volume_element \u001b[38;5;241m=\u001b[39m item\u001b[38;5;241m.\u001b[39mfind(\u001b[38;5;124m'\u001b[39m\u001b[38;5;124mp\u001b[39m\u001b[38;5;124m'\u001b[39m, {\u001b[38;5;124m\"\u001b[39m\u001b[38;5;124mclass\u001b[39m\u001b[38;5;124m\"\u001b[39m : \u001b[38;5;124m\"\u001b[39m\u001b[38;5;124msc-71024e3e-0 bbHOdE font_weight_500\u001b[39m\u001b[38;5;124m\"\u001b[39m})\n",
      "\u001b[0;31mAttributeError\u001b[0m: 'NoneType' object has no attribute 'get_text'"
     ]
    }
   ],
   "source": [
    "name = []\n",
    "price = []\n",
    "market_cap = []\n",
    "volume = []\n",
    "coin_supply = []\n",
    "\n",
    "\n",
    "for page in range(1, 2):\n",
    "    url = \"https://coinmarketcap.com/?page={}\".format(page)\n",
    "    driver.get(url)\n",
    "    time.sleep(5)\n",
    "    for i in range(20):\n",
    "        driver.execute_script(\"window.scrollBy(0,300)\") #delay the scraping by 300 pixels\n",
    "        time.sleep(1)\n",
    "    html = driver.page_source\n",
    "    soup =BeautifulSoup(html, \"html.parser\")\n",
    "\n",
    "    for item in soup.find_all('tr', style= \"cursor:pointer\"):\n",
    "        name.append(item.find( 'p', {\"class\" : \"sc-71024e3e-0 ehyBa-d\"}).get_text())\n",
    "        price.append(item.find( 'div', {\"class\" : \"sc-a093f09c-0 gPTgRa\"}).get_text())\n",
    "        market_cap.append(item.find( 'span', {\"class\" : \"sc-baf034bc-0 bpcTPe\"}).get_text())\n",
    "        volume_element = item.find('p', {\"class\" : \"sc-71024e3e-0 bbHOdE font_weight_500\"})\n",
    "        if volume_element is not None:\n",
    "            volume.append(volume_element.get_text())\n",
    "        else:\n",
    "            volume.append('N/A')\n",
    "        coin_supply.append(item.find( 'p', {\"class\": \"sc-71024e3e-0 hhmVNu\" }).get_text())\n",
    "\n",
    "\n",
    "\n"
   ]
  },
  {
   "cell_type": "code",
   "execution_count": 33,
   "metadata": {},
   "outputs": [
    {
     "data": {
      "text/plain": [
       "['Bitcoin',\n",
       " 'Ethereum',\n",
       " 'Tether',\n",
       " 'BNB',\n",
       " 'Solana',\n",
       " 'USDC',\n",
       " 'XRP',\n",
       " 'Dogecoin',\n",
       " 'Toncoin',\n",
       " 'Cardano']"
      ]
     },
     "execution_count": 33,
     "metadata": {},
     "output_type": "execute_result"
    }
   ],
   "source": [
    "name"
   ]
  },
  {
   "cell_type": "code",
   "execution_count": 34,
   "metadata": {},
   "outputs": [
    {
     "data": {
      "text/plain": [
       "['$67,841.90',\n",
       " '$3,815.15',\n",
       " '$0.999',\n",
       " '$599.64',\n",
       " '$169.57',\n",
       " '$0.9999',\n",
       " '$0.5299',\n",
       " '$0.1655',\n",
       " '$6.51',\n",
       " '$0.463']"
      ]
     },
     "execution_count": 34,
     "metadata": {},
     "output_type": "execute_result"
    }
   ],
   "source": [
    "price"
   ]
  },
  {
   "cell_type": "code",
   "execution_count": 35,
   "metadata": {},
   "outputs": [
    {
     "data": {
      "text/plain": [
       "['$1.34T',\n",
       " '$458.35B',\n",
       " '$111.85B',\n",
       " '$88.5B',\n",
       " '$77.92B',\n",
       " '$32.27B',\n",
       " '$29.37B',\n",
       " '$23.91B',\n",
       " '$22.63B',\n",
       " '$16.53B']"
      ]
     },
     "execution_count": 35,
     "metadata": {},
     "output_type": "execute_result"
    }
   ],
   "source": [
    "market_cap"
   ]
  },
  {
   "cell_type": "code",
   "execution_count": 36,
   "metadata": {},
   "outputs": [
    {
     "data": {
      "text/plain": [
       "['$28,454,391,504',\n",
       " '$18,727,330,586',\n",
       " '$70,092,598,463',\n",
       " '$1,700,139,338',\n",
       " '$3,268,533,239',\n",
       " '$6,755,017,303',\n",
       " '$1,160,396,347',\n",
       " '$1,577,940,174',\n",
       " '$169,885,038',\n",
       " '$352,845,606']"
      ]
     },
     "execution_count": 36,
     "metadata": {},
     "output_type": "execute_result"
    }
   ],
   "source": [
    "volume"
   ]
  },
  {
   "cell_type": "code",
   "execution_count": 37,
   "metadata": {},
   "outputs": [
    {
     "data": {
      "text/plain": [
       "['19,705,021 BTC',\n",
       " '120,138,397 ETH',\n",
       " '111,962,821,346 USDT',\n",
       " '147,585,513 BNB',\n",
       " '459,506,456 SOL',\n",
       " '32,267,499,143 USDC',\n",
       " '55,430,475,754 XRP',\n",
       " '144,488,396,384 DOGE',\n",
       " '3,474,862,136 TON',\n",
       " '35,698,288,174 ADA']"
      ]
     },
     "execution_count": 37,
     "metadata": {},
     "output_type": "execute_result"
    }
   ],
   "source": [
    "coin_supply"
   ]
  }
 ],
 "metadata": {
  "kernelspec": {
   "display_name": "base",
   "language": "python",
   "name": "python3"
  },
  "language_info": {
   "codemirror_mode": {
    "name": "ipython",
    "version": 3
   },
   "file_extension": ".py",
   "mimetype": "text/x-python",
   "name": "python",
   "nbconvert_exporter": "python",
   "pygments_lexer": "ipython3",
   "version": "3.12.2"
  }
 },
 "nbformat": 4,
 "nbformat_minor": 2
}
