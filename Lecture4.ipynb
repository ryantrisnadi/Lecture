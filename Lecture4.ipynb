{
 "cells": [
  {
   "cell_type": "code",
   "execution_count": 8,
   "metadata": {},
   "outputs": [
    {
     "name": "stdout",
     "output_type": "stream",
     "text": [
      "<__main__.Book object at 0x1073ec590>\n",
      "a5\n",
      "Buku harry potter udah diuka!\n"
     ]
    }
   ],
   "source": [
    "'''\n",
    "oop: paradigma pemrograman yang ebasis ojek. objek memiliki:\n",
    "\n",
    "atribut data\n",
    "perilaku/metode(fungsi)\n",
    "\n",
    "case - system perpustakaan > menyimpakan buku\n",
    "sebelum membuat oject, kita perlu class(blueprint/rencana)\n",
    "\n",
    "class memiliki:\n",
    "\n",
    "atribut > nama, penulis, warna, jumlah halaman, ukuran kertas\n",
    "\n",
    "misal: buku > 'harry potter', 'jk rowling', 'hijau', '200',' a5'\n",
    "\n",
    "\n",
    "\n",
    "'''\n",
    "\n",
    "class Book():\n",
    "    #define atribute\n",
    "    def __init__(self):\n",
    "        self.title = 'harry potter'\n",
    "        self.author = 'jk rowling'\n",
    "        self.bookColor = 'hijau'\n",
    "        self.pages = 500\n",
    "        self.size = 'a5'\n",
    "\n",
    "        #define behavior\n",
    "    def openBook(self):\n",
    "        print(f\"Buku {self.title} udah diuka!\")\n",
    "\n",
    "book = Book()\n",
    "\n",
    "print(book)\n",
    "\n",
    "print(book.size)\n",
    "\n",
    "book.openBook()\n",
    "\n",
    "\n"
   ]
  },
  {
   "cell_type": "markdown",
   "metadata": {},
   "source": [
    "## creating book class"
   ]
  },
  {
   "cell_type": "code",
   "execution_count": 35,
   "metadata": {},
   "outputs": [
    {
     "name": "stdout",
     "output_type": "stream",
     "text": [
      "harry potter oleh jk rowling. warna hijau halaman 200 ukuran a5\n",
      "harry potter\n",
      "eichero\n",
      "harry potter oleh jk rowling dibuka\n",
      "Sedang ada one piece oleh eichero\n",
      "harry potter oleh jk rowling dipinjam\n",
      "Buku one piece dikembalikan\n"
     ]
    }
   ],
   "source": [
    "class Book:\n",
    "    def __init__(self, title, author, bookColor, pages, size):\n",
    "             self.title = title\n",
    "             self.author = author\n",
    "             self.bookColor = bookColor\n",
    "             self.pages = pages\n",
    "             self.size = size\n",
    "             self.books = []\n",
    "\n",
    "    def __str__(self):\n",
    "        print(f\"{self.title}, {self.author}, {self.pages}\")\n",
    "\n",
    "    def openBook(self):\n",
    "        print(f\"{self.title} oleh {self.author} dibuka\")\n",
    "    def readBook(self):\n",
    "        print(f\"Sedang ada {self.title} oleh {self.author}\")\n",
    "    def borrowBook(self):\n",
    "        print(f\"{self.title} oleh {self.author} dipinjam\")\n",
    "\n",
    "    def returnBook(self):\n",
    "        print(f\"Buku {self.title} dikembalikan\")\n",
    "    \n",
    "    def __str__(self):\n",
    "        return f\"{self.title} oleh {self.author}. warna {self.bookColor} halaman {self.pages} ukuran {self.size}\"\n",
    "    \n",
    "    def listBook(self):\n",
    "         for book in self.books:\n",
    "              print(f\"{book.title} oleh {book.author}\")\n",
    "   \n",
    "print(book1)\n",
    "\n",
    "book1 = Book(\"harry potter\", \"jk rowling\", \"hijau\", 200, \"a5\")\n",
    "book2 = Book(\"one piece\", \"eichero\", \"merah\", 50, \"b5\")\n",
    "\n",
    "print(book1.title)\n",
    "print(book2.author)\n",
    "\n",
    "book1.openBook()\n",
    "book2.readBook()\n",
    "book1.borrowBook()\n",
    "book2.returnBook()\n",
    "\n",
    "books= []\n",
    "\n",
    "\n",
    "\n",
    "\n"
   ]
  },
  {
   "cell_type": "markdown",
   "metadata": {},
   "source": [
    "## add to library"
   ]
  },
  {
   "cell_type": "code",
   "execution_count": 12,
   "metadata": {},
   "outputs": [
    {
     "name": "stdout",
     "output_type": "stream",
     "text": [
      "Naruto oleh masashi telah ditambah\n",
      "sebuah Seni untuk Bersikap Bodo oleh mark telah ditambah\n"
     ]
    }
   ],
   "source": [
    "class Library():\n",
    "    '''\n",
    "    class ini bertujuan untuk menampbahkan uku ke daftar untuk perpustakaan\n",
    "    step 1- menambahkan buku\n",
    "    step 2 - melihate daftar uku yang telah ditambahkan\n",
    "    '''\n",
    "    def __init__(self):\n",
    "        self.books = []\n",
    "\n",
    "    #fungsi ehavior menambahkan buku ke dalam list dengan '.append()'\n",
    "    def addBook(self, book):\n",
    "        self.books.append(book)\n",
    "        #mencetakan kalimat sebagai tanda buku sudah berhasil ditambahkan\n",
    "        print(f\"{book.title} oleh {book.author} telah ditambah\")\n",
    "        \n",
    "    #fungsi\n",
    "    def listBook(self):\n",
    "        for book in self.books:\n",
    "            print(f\"{book.title} oleh {book.author}\")\n",
    "\n",
    "#memuat object untuk beberapa buku\n",
    "book1 = Book(\"Naruto\", \"masashi\",  \"Orange\", 700, \"a5\")\n",
    "book2 = Book(\"sebuah Seni untuk Bersikap Bodo\", \"mark\", \"Merah\", 224, \"a5\")\n",
    "\n",
    "#memuat perpustakaan\n",
    "library = Library()\n",
    "\n",
    "library.addBook(book1)\n",
    "library.addBook(book2)"
   ]
  },
  {
   "cell_type": "markdown",
   "metadata": {},
   "source": [
    "## secret book class\n"
   ]
  },
  {
   "cell_type": "code",
   "execution_count": 13,
   "metadata": {},
   "outputs": [
    {
     "name": "stdout",
     "output_type": "stream",
     "text": [
      "Naruto oleh masashi. warna Orange halaman 700 ukuran a5\n",
      "harry potter\n",
      "eichero\n",
      "harry potter oleh jk rowling dibuka\n",
      "Sedang ada one piece oleh eichero\n",
      "harry potter oleh jk rowling dipinjam\n",
      "Buku one piece dikembalikan\n"
     ]
    }
   ],
   "source": [
    "class Book:\n",
    "    def __init__(self, title, author, bookColor, pages, size):\n",
    "             self.title = title\n",
    "             self.author = author\n",
    "             self.bookColor = bookColor\n",
    "             self.pages = pages\n",
    "             self.size = size\n",
    "             self.books = []\n",
    "\n",
    "    def openBook(self):\n",
    "        print(f\"{self.title} oleh {self.author} dibuka\")\n",
    "    def readBook(self):\n",
    "        print(f\"Sedang ada {self.title} oleh {self.author}\")\n",
    "    def borrowBook(self):\n",
    "        print(f\"{self.title} oleh {self.author} dipinjam\")\n",
    "\n",
    "    def returnBook(self):\n",
    "        print(f\"Buku {self.title} dikembalikan\")\n",
    "    \n",
    "    def __str__(self):\n",
    "        return f\"{self.title} oleh {self.author}. warna {self.bookColor} halaman {self.pages} ukuran {self.size}\"\n",
    "    \n",
    "    def listBook(self):\n",
    "         for book in self.books:\n",
    "              print(f\"{book.title} oleh {book.author}\")\n",
    "    \n",
    "print(book1)\n",
    "\n",
    "book1 = Book (\"harry potter\", \"jk rowling\", \"hijau\", 200, \"a5\")\n",
    "book2 = Book (\"one piece\", \"eichero\", \"merah\", 50, \"b5\")\n",
    "\n",
    "print(book1.title)\n",
    "print(book2.author)\n",
    "\n",
    "book1.openBook()\n",
    "book2.readBook()\n",
    "book1.borrowBook()\n",
    "book2.returnBook()\n",
    "\n",
    "books= []\n",
    "\n",
    "\n",
    "\n",
    "\n"
   ]
  },
  {
   "cell_type": "markdown",
   "metadata": {},
   "source": [
    "## inheritance"
   ]
  },
  {
   "cell_type": "code",
   "execution_count": 81,
   "metadata": {},
   "outputs": [
    {
     "name": "stdout",
     "output_type": "stream",
     "text": [
      "Sedang membaca majalah national geo edisi april 2024 oleh johm\n"
     ]
    }
   ],
   "source": [
    "'''\n",
    "class ook seagai class orang tua\n",
    "class Magazine sebagai class anak\n",
    "'''\n",
    "\n",
    "class Magazine(Book):\n",
    "    def __init__(self, title, author, bookColor, pages, size, issue):\n",
    "        super().__init__(title, author, bookColor, pages, size) #memanggil metode init dari class orang tua\n",
    "        self.issue = issue #atribut baru di Magazine\n",
    "\n",
    "    def readMagazine(self): #behavior baru untuk Magazine\n",
    "        print(f\"Sedang membaca majalah {self.title} edisi {self.issue} oleh {self.author}\")\n",
    "\n",
    "#create magazine\n",
    "magazine = Magazine(\"national geo\", \"johm\", \"yellow\", 120, \"a4\", \"april 2024\")\n",
    "\n",
    "#memanggil behavior baru\n",
    "magazine.readMagazine()"
   ]
  },
  {
   "cell_type": "markdown",
   "metadata": {},
   "source": [
    "## Trial child class called Newspaper "
   ]
  },
  {
   "cell_type": "code",
   "execution_count": 82,
   "metadata": {},
   "outputs": [
    {
     "name": "stdout",
     "output_type": "stream",
     "text": [
      "Sedang membaca koran tribune edisi may 2024 oleh ryan\n"
     ]
    }
   ],
   "source": [
    "class Newspaper(Book):\n",
    "    def __init__(self, title, author, bookColor, pages, size, issue):  #attribute\n",
    "        Book.__init__(self, title, author, bookColor, pages, size) #memanggil metode init dari class orang tua\n",
    "        self.issue = issue #atriut baru di Magazine\n",
    "\n",
    "    def readNewspaper(self): #behavior baru untuk Newspaper #behavior\n",
    "        print(f\"Sedang membaca koran {self.title} edisi {self.issue} oleh {self.author}\")\n",
    "\n",
    "newspaper = Newspaper(\"tribune\", \"ryan\", \"green\", 100, \"newspaper\", \"may 2024\")\n",
    "\n",
    "newspaper.readNewspaper()\n",
    "        "
   ]
  },
  {
   "cell_type": "markdown",
   "metadata": {},
   "source": [
    "## new class with 3 parents"
   ]
  },
  {
   "cell_type": "code",
   "execution_count": 83,
   "metadata": {},
   "outputs": [
    {
     "name": "stdout",
     "output_type": "stream",
     "text": [
      "Sedang membaca laskar oleh Andrea.\n",
      "Sedang memaca uku harry potter oleh JK rowling.\n",
      "Sedang membaca majalah national geo edisi April 2024 oleh john.\n"
     ]
    }
   ],
   "source": [
    "class Publication(): #kakek\n",
    "    def __init__(self, title, author):\n",
    "        self.title = title\n",
    "        self.author = author\n",
    "        \n",
    "    def read(self):\n",
    "        print(f\"Sedang membaca {self.title} oleh {self.author}.\")\n",
    "\n",
    "class Book(Publication): #Bapak\n",
    "    def __init__(self, title, author, bookColor, pages, sizes):\n",
    "        super().__init__(title, author) # memanggil metode init dari kakek\n",
    "    #atribut atribut baru\n",
    "        self.bookColor = bookColor\n",
    "        self.pages = pages\n",
    "        self.size = sizes\n",
    "\n",
    "    def read(self):\n",
    "        print(f\"Sedang memaca uku {self.title} oleh {self.author}.\")\n",
    "\n",
    "class Magazine(Book): #anak\n",
    "    def __init__(self, title, author, bookColor, pages, size, issue):\n",
    "        super().__init__(title, author, bookColor, pages, size) #memanggil metode init dark bapak\n",
    "        self.issue = issue #atribut baru\n",
    "\n",
    "    def read(self): #new method specifi to Magazine\n",
    "        print(f\"Sedang membaca majalah {self.title} edisi {self.issue} oleh {self.author}.\")\n",
    "# bikin object untuk class Book dan Magazine\n",
    "publication = Publication(\"laskar\", \"Andrea\")\n",
    "book = Book(\"harry potter\", \"JK rowling\", \"Hijau\", 200, \"A5\")\n",
    "magazine = Magazine(\"national geo\", \"john\", \"yellow\", 120, \"a4\", \"April 2024\")\n",
    "\n",
    "#bisa memanggil behavior yang sama dari class yang berbeda\n",
    "for x in [publication, book, magazine]:\n",
    "    x.read()"
   ]
  },
  {
   "cell_type": "markdown",
   "metadata": {},
   "source": [
    "## bank account case"
   ]
  },
  {
   "cell_type": "code",
   "execution_count": 74,
   "metadata": {},
   "outputs": [
    {
     "name": "stdout",
     "output_type": "stream",
     "text": [
      "Saldomu berkurang {amount}\n"
     ]
    },
    {
     "data": {
      "text/plain": [
       "'Saldo = 9867'"
      ]
     },
     "execution_count": 74,
     "metadata": {},
     "output_type": "execute_result"
    }
   ],
   "source": [
    "from datetime import datetime\n",
    "\n",
    "class BankAccount:\n",
    "\n",
    "  def __init__(self, account_number, customer_name, balance):\n",
    "    self.account_number = account_number # `__` indicate that the attribute is private\n",
    "    self.customer_name = customer_name\n",
    "    self.balance = balance # private attribute cannot be called when a class be an object\n",
    "    self.date_of_opening = datetime.now()\n",
    "    \n",
    "\n",
    "\n",
    "  def deposit(self):\n",
    "    amount = int(input(\"Masukkan jumlah deposit: \"))\n",
    "    self.balance += amount\n",
    "    print(f\"saldo naik {amount}.\")\n",
    "    return f\"Saldo akhir = {self.balance}\"\n",
    "\n",
    "  def withdraw(self):\n",
    "    amount = int(input(\"Masukkan jumlah withdraw: \"))\n",
    "    if amount > self.balance:\n",
    "      print(\"Saldo tidak cukup.\")\n",
    "      return f\"Saldo hanya {self.balance}\"\n",
    "    else:\n",
    "      self.balance -= amount\n",
    "      print('Saldomu berkurang {amount}')\n",
    "      return f\"saldo akhir = {self.balance}\"\n",
    "    \n",
    "  def check_balance(self):\n",
    "    return f\"Saldo = {self.balance}\"\n",
    "  \n",
    "account = BankAccount(123, \"Ryan\", 9900)\n",
    "\n",
    "account.withdraw()\n",
    "account.check_balance()\n",
    "\n",
    "\n",
    "\n",
    "\n"
   ]
  },
  {
   "cell_type": "markdown",
   "metadata": {},
   "source": [
    "## errors (afternoon class)"
   ]
  },
  {
   "cell_type": "code",
   "execution_count": 75,
   "metadata": {},
   "outputs": [
    {
     "name": "stdout",
     "output_type": "stream",
     "text": [
      "1\n",
      "2\n",
      "tidak bisa convert non numerik ke integer\n",
      "1\n",
      "1\n",
      "Iterasi selesai\n",
      "2\n",
      "2\n",
      "Iterasi selesai\n",
      "tidak bisa convert non numerik ke integer\n",
      "Iterasi selesai\n",
      "4\n",
      "4\n",
      "Iterasi selesai\n"
     ]
    }
   ],
   "source": [
    "for x in [\"1\", \"2\", \"three\", \"4\"]:\n",
    "    try:\n",
    "        y = int(x)\n",
    "        print(y)\n",
    "    except:\n",
    "        print(\"tidak bisa convert non numerik ke integer\")\n",
    "        break # agar looping berhenti. \n",
    "\n",
    "for x in [\"1\", \"2\", \"three\", \"4\"]:\n",
    "    try:\n",
    "        y = int(x)\n",
    "        print(y)\n",
    "    except: #ini akan berjalan saat try gagal \n",
    "        print(\"tidak bisa convert non numerik ke integer\")\n",
    "        #break # agar looping erhenti saat bertemu elemen yang\n",
    "    else: #ini akan berjalan saat try sukses\n",
    "        print(x)\n",
    "    finally: # akan selalu berjalan pada setiap iterasi\n",
    "        print('Iterasi selesai')\n"
   ]
  },
  {
   "cell_type": "markdown",
   "metadata": {},
   "source": [
    "## catch specific errors"
   ]
  },
  {
   "cell_type": "code",
   "execution_count": 76,
   "metadata": {},
   "outputs": [
    {
     "name": "stdout",
     "output_type": "stream",
     "text": [
      "1.0\n"
     ]
    }
   ],
   "source": [
    "try:\n",
    "\n",
    "    pembilang = int(input('Masukkan angka yang menjadi pembilan: '))\n",
    "    penyebut = int(input('Masukkan angka yang menjadi penyebut: '))\n",
    "    x = pembilang/penyebut\n",
    "    print(x)\n",
    "# ini akan terpanggil jika inputan penyebut adalah 0\n",
    "except ZeroDivisionError:\n",
    "    print('Pemilang tidak boleh angka 0.')\n",
    "#ini akan terpanggil jika inputan bukan angka \n",
    "except ValueError:\n",
    "    print('Inputan harus berupa angka.')\n",
    "# ini akan terpanggil jika ada syntax yang typo/tidak sesuai\n",
    "except  Exception:\n",
    "    print(\"An error occurred\")\n",
    "\n",
    "    \n",
    "\n",
    "\n",
    "\n"
   ]
  },
  {
   "cell_type": "markdown",
   "metadata": {},
   "source": [
    "## raising the error (from above)"
   ]
  },
  {
   "cell_type": "code",
   "execution_count": 34,
   "metadata": {},
   "outputs": [
    {
     "ename": "ValueError",
     "evalue": "Cannot divide by Zero.",
     "output_type": "error",
     "traceback": [
      "\u001b[0;31m---------------------------------------------------------------------------\u001b[0m",
      "\u001b[0;31mValueError\u001b[0m                                Traceback (most recent call last)",
      "Cell \u001b[0;32mIn[34], line 6\u001b[0m\n\u001b[1;32m      4\u001b[0m         \u001b[38;5;28;01mraise\u001b[39;00m \u001b[38;5;167;01mValueError\u001b[39;00m(\u001b[38;5;124m\"\u001b[39m\u001b[38;5;124mCannot divide by Zero.\u001b[39m\u001b[38;5;124m\"\u001b[39m)\n\u001b[1;32m      5\u001b[0m     \u001b[38;5;28;01mreturn\u001b[39;00m a\u001b[38;5;241m/\u001b[39mb\n\u001b[0;32m----> 6\u001b[0m \u001b[43mdivide_numbers\u001b[49m\u001b[43m(\u001b[49m\u001b[38;5;241;43m5\u001b[39;49m\u001b[43m,\u001b[49m\u001b[38;5;241;43m0\u001b[39;49m\u001b[43m)\u001b[49m\n\u001b[1;32m      8\u001b[0m \u001b[38;5;66;03m## means to return error\u001b[39;00m\n",
      "Cell \u001b[0;32mIn[34], line 4\u001b[0m, in \u001b[0;36mdivide_numbers\u001b[0;34m(a, b)\u001b[0m\n\u001b[1;32m      2\u001b[0m \u001b[38;5;28;01mdef\u001b[39;00m \u001b[38;5;21mdivide_numbers\u001b[39m(a, b): \n\u001b[1;32m      3\u001b[0m     \u001b[38;5;28;01mif\u001b[39;00m b \u001b[38;5;241m==\u001b[39m \u001b[38;5;241m0\u001b[39m:\n\u001b[0;32m----> 4\u001b[0m         \u001b[38;5;28;01mraise\u001b[39;00m \u001b[38;5;167;01mValueError\u001b[39;00m(\u001b[38;5;124m\"\u001b[39m\u001b[38;5;124mCannot divide by Zero.\u001b[39m\u001b[38;5;124m\"\u001b[39m)\n\u001b[1;32m      5\u001b[0m     \u001b[38;5;28;01mreturn\u001b[39;00m a\u001b[38;5;241m/\u001b[39mb\n",
      "\u001b[0;31mValueError\u001b[0m: Cannot divide by Zero."
     ]
    }
   ],
   "source": [
    "#mengganti output error yang python berikan dengan output error yang kita tentukan. \n",
    "def divide_numbers(a, b): \n",
    "    if b == 0:\n",
    "        raise ValueError(\"Cannot divide by Zero.\")\n",
    "    return a/b\n",
    "divide_numbers(5,0)\n",
    "\n",
    "## means to return error"
   ]
  },
  {
   "cell_type": "markdown",
   "metadata": {},
   "source": [
    "## genap "
   ]
  },
  {
   "cell_type": "code",
   "execution_count": 80,
   "metadata": {},
   "outputs": [
    {
     "name": "stdout",
     "output_type": "stream",
     "text": [
      "Ini bilangan genap.\n"
     ]
    }
   ],
   "source": [
    "def CheckGenap(n):\n",
    "    '''\n",
    "    Fungsi untuk mengecek angka genap dengan output boolean (benar/salah)\n",
    "    '''\n",
    "    if n % 2 == 0: # habis dibagi 2\n",
    "        return f'Ini bilangan genap.'\n",
    "    return f'Ini bilangan ganjil.'\n",
    "\n",
    "# main idiom\n",
    "if __name__ == \"__main__\":\n",
    "    userInput = input('Masukkan angka: ')\n",
    "    userInputNum = int(userInput)\n",
    "    print(CheckGenap(userInputNum))\n"
   ]
  },
  {
   "cell_type": "markdown",
   "metadata": {},
   "source": [
    "## importing the unittest"
   ]
  },
  {
   "cell_type": "code",
   "execution_count": 78,
   "metadata": {},
   "outputs": [
    {
     "name": "stderr",
     "output_type": "stream",
     "text": [
      "usage: ipykernel_launcher.py [-h] [-v] [-q] [--locals] [--durations N] [-f]\n",
      "                             [-c] [-b] [-k TESTNAMEPATTERNS]\n",
      "                             [tests ...]\n",
      "ipykernel_launcher.py: error: argument -f/--failfast: ignored explicit argument '/Users/ryantrisnadi/Library/Jupyter/runtime/kernel-v2-54528zmRZIMMB87KZ.json'\n"
     ]
    },
    {
     "ename": "AttributeError",
     "evalue": "'tuple' object has no attribute 'tb_frame'",
     "output_type": "error",
     "traceback": [
      "\u001b[0;31m---------------------------------------------------------------------------\u001b[0m",
      "\u001b[0;31mArgumentError\u001b[0m                             Traceback (most recent call last)",
      "File \u001b[0;32m/Library/Frameworks/Python.framework/Versions/3.12/lib/python3.12/argparse.py:1929\u001b[0m, in \u001b[0;36mArgumentParser.parse_known_args\u001b[0;34m(self, args, namespace)\u001b[0m\n\u001b[1;32m   1928\u001b[0m \u001b[38;5;28;01mtry\u001b[39;00m:\n\u001b[0;32m-> 1929\u001b[0m     namespace, args \u001b[38;5;241m=\u001b[39m \u001b[38;5;28;43mself\u001b[39;49m\u001b[38;5;241;43m.\u001b[39;49m\u001b[43m_parse_known_args\u001b[49m\u001b[43m(\u001b[49m\u001b[43margs\u001b[49m\u001b[43m,\u001b[49m\u001b[43m \u001b[49m\u001b[43mnamespace\u001b[49m\u001b[43m)\u001b[49m\n\u001b[1;32m   1930\u001b[0m \u001b[38;5;28;01mexcept\u001b[39;00m ArgumentError \u001b[38;5;28;01mas\u001b[39;00m err:\n",
      "File \u001b[0;32m/Library/Frameworks/Python.framework/Versions/3.12/lib/python3.12/argparse.py:2150\u001b[0m, in \u001b[0;36mArgumentParser._parse_known_args\u001b[0;34m(self, arg_strings, namespace)\u001b[0m\n\u001b[1;32m   2149\u001b[0m     \u001b[38;5;66;03m# consume the next optional and any arguments for it\u001b[39;00m\n\u001b[0;32m-> 2150\u001b[0m     start_index \u001b[38;5;241m=\u001b[39m \u001b[43mconsume_optional\u001b[49m\u001b[43m(\u001b[49m\u001b[43mstart_index\u001b[49m\u001b[43m)\u001b[49m\n\u001b[1;32m   2152\u001b[0m \u001b[38;5;66;03m# consume any positionals following the last Optional\u001b[39;00m\n",
      "File \u001b[0;32m/Library/Frameworks/Python.framework/Versions/3.12/lib/python3.12/argparse.py:2072\u001b[0m, in \u001b[0;36mArgumentParser._parse_known_args.<locals>.consume_optional\u001b[0;34m(start_index)\u001b[0m\n\u001b[1;32m   2071\u001b[0m         msg \u001b[38;5;241m=\u001b[39m _(\u001b[38;5;124m'\u001b[39m\u001b[38;5;124mignored explicit argument \u001b[39m\u001b[38;5;132;01m%r\u001b[39;00m\u001b[38;5;124m'\u001b[39m)\n\u001b[0;32m-> 2072\u001b[0m         \u001b[38;5;28;01mraise\u001b[39;00m ArgumentError(action, msg \u001b[38;5;241m%\u001b[39m explicit_arg)\n\u001b[1;32m   2074\u001b[0m \u001b[38;5;66;03m# if there is no explicit argument, try to match the\u001b[39;00m\n\u001b[1;32m   2075\u001b[0m \u001b[38;5;66;03m# optional's string arguments with the following strings\u001b[39;00m\n\u001b[1;32m   2076\u001b[0m \u001b[38;5;66;03m# if successful, exit the loop\u001b[39;00m\n\u001b[1;32m   2077\u001b[0m \u001b[38;5;28;01melse\u001b[39;00m:\n",
      "\u001b[0;31mArgumentError\u001b[0m: argument -f/--failfast: ignored explicit argument '/Users/ryantrisnadi/Library/Jupyter/runtime/kernel-v2-54528zmRZIMMB87KZ.json'",
      "\nDuring handling of the above exception, another exception occurred:\n",
      "\u001b[0;31mSystemExit\u001b[0m                                Traceback (most recent call last)",
      "    \u001b[0;31m[... skipping hidden 1 frame]\u001b[0m\n",
      "Cell \u001b[0;32mIn[78], line 21\u001b[0m\n\u001b[1;32m     20\u001b[0m \u001b[38;5;28;01mif\u001b[39;00m \u001b[38;5;18m__name__\u001b[39m \u001b[38;5;241m==\u001b[39m \u001b[38;5;124m'\u001b[39m\u001b[38;5;124m__main__\u001b[39m\u001b[38;5;124m'\u001b[39m:\n\u001b[0;32m---> 21\u001b[0m     \u001b[43munittest\u001b[49m\u001b[38;5;241;43m.\u001b[39;49m\u001b[43mmain\u001b[49m\u001b[43m(\u001b[49m\u001b[43mverbosity\u001b[49m\u001b[38;5;241;43m=\u001b[39;49m\u001b[38;5;241;43m1\u001b[39;49m\u001b[43m)\u001b[49m\n",
      "File \u001b[0;32m/Library/Frameworks/Python.framework/Versions/3.12/lib/python3.12/unittest/main.py:104\u001b[0m, in \u001b[0;36mTestProgram.__init__\u001b[0;34m(self, module, defaultTest, argv, testRunner, testLoader, exit, verbosity, failfast, catchbreak, buffer, warnings, tb_locals, durations)\u001b[0m\n\u001b[1;32m    103\u001b[0m \u001b[38;5;28mself\u001b[39m\u001b[38;5;241m.\u001b[39mprogName \u001b[38;5;241m=\u001b[39m os\u001b[38;5;241m.\u001b[39mpath\u001b[38;5;241m.\u001b[39mbasename(argv[\u001b[38;5;241m0\u001b[39m])\n\u001b[0;32m--> 104\u001b[0m \u001b[38;5;28;43mself\u001b[39;49m\u001b[38;5;241;43m.\u001b[39;49m\u001b[43mparseArgs\u001b[49m\u001b[43m(\u001b[49m\u001b[43margv\u001b[49m\u001b[43m)\u001b[49m\n\u001b[1;32m    105\u001b[0m \u001b[38;5;28mself\u001b[39m\u001b[38;5;241m.\u001b[39mrunTests()\n",
      "File \u001b[0;32m/Library/Frameworks/Python.framework/Versions/3.12/lib/python3.12/unittest/main.py:139\u001b[0m, in \u001b[0;36mTestProgram.parseArgs\u001b[0;34m(self, argv)\u001b[0m\n\u001b[1;32m    138\u001b[0m \u001b[38;5;28;01melse\u001b[39;00m:\n\u001b[0;32m--> 139\u001b[0m     \u001b[38;5;28;43mself\u001b[39;49m\u001b[38;5;241;43m.\u001b[39;49m\u001b[43m_main_parser\u001b[49m\u001b[38;5;241;43m.\u001b[39;49m\u001b[43mparse_args\u001b[49m\u001b[43m(\u001b[49m\u001b[43margv\u001b[49m\u001b[43m[\u001b[49m\u001b[38;5;241;43m1\u001b[39;49m\u001b[43m:\u001b[49m\u001b[43m]\u001b[49m\u001b[43m,\u001b[49m\u001b[43m \u001b[49m\u001b[38;5;28;43mself\u001b[39;49m\u001b[43m)\u001b[49m\n\u001b[1;32m    141\u001b[0m \u001b[38;5;28;01mif\u001b[39;00m \u001b[38;5;28mself\u001b[39m\u001b[38;5;241m.\u001b[39mtests:\n",
      "File \u001b[0;32m/Library/Frameworks/Python.framework/Versions/3.12/lib/python3.12/argparse.py:1896\u001b[0m, in \u001b[0;36mArgumentParser.parse_args\u001b[0;34m(self, args, namespace)\u001b[0m\n\u001b[1;32m   1895\u001b[0m \u001b[38;5;28;01mdef\u001b[39;00m \u001b[38;5;21mparse_args\u001b[39m(\u001b[38;5;28mself\u001b[39m, args\u001b[38;5;241m=\u001b[39m\u001b[38;5;28;01mNone\u001b[39;00m, namespace\u001b[38;5;241m=\u001b[39m\u001b[38;5;28;01mNone\u001b[39;00m):\n\u001b[0;32m-> 1896\u001b[0m     args, argv \u001b[38;5;241m=\u001b[39m \u001b[38;5;28;43mself\u001b[39;49m\u001b[38;5;241;43m.\u001b[39;49m\u001b[43mparse_known_args\u001b[49m\u001b[43m(\u001b[49m\u001b[43margs\u001b[49m\u001b[43m,\u001b[49m\u001b[43m \u001b[49m\u001b[43mnamespace\u001b[49m\u001b[43m)\u001b[49m\n\u001b[1;32m   1897\u001b[0m     \u001b[38;5;28;01mif\u001b[39;00m argv:\n",
      "File \u001b[0;32m/Library/Frameworks/Python.framework/Versions/3.12/lib/python3.12/argparse.py:1931\u001b[0m, in \u001b[0;36mArgumentParser.parse_known_args\u001b[0;34m(self, args, namespace)\u001b[0m\n\u001b[1;32m   1930\u001b[0m     \u001b[38;5;28;01mexcept\u001b[39;00m ArgumentError \u001b[38;5;28;01mas\u001b[39;00m err:\n\u001b[0;32m-> 1931\u001b[0m         \u001b[38;5;28;43mself\u001b[39;49m\u001b[38;5;241;43m.\u001b[39;49m\u001b[43merror\u001b[49m\u001b[43m(\u001b[49m\u001b[38;5;28;43mstr\u001b[39;49m\u001b[43m(\u001b[49m\u001b[43merr\u001b[49m\u001b[43m)\u001b[49m\u001b[43m)\u001b[49m\n\u001b[1;32m   1932\u001b[0m \u001b[38;5;28;01melse\u001b[39;00m:\n",
      "File \u001b[0;32m/Library/Frameworks/Python.framework/Versions/3.12/lib/python3.12/argparse.py:2665\u001b[0m, in \u001b[0;36mArgumentParser.error\u001b[0;34m(self, message)\u001b[0m\n\u001b[1;32m   2664\u001b[0m args \u001b[38;5;241m=\u001b[39m {\u001b[38;5;124m'\u001b[39m\u001b[38;5;124mprog\u001b[39m\u001b[38;5;124m'\u001b[39m: \u001b[38;5;28mself\u001b[39m\u001b[38;5;241m.\u001b[39mprog, \u001b[38;5;124m'\u001b[39m\u001b[38;5;124mmessage\u001b[39m\u001b[38;5;124m'\u001b[39m: message}\n\u001b[0;32m-> 2665\u001b[0m \u001b[38;5;28;43mself\u001b[39;49m\u001b[38;5;241;43m.\u001b[39;49m\u001b[43mexit\u001b[49m\u001b[43m(\u001b[49m\u001b[38;5;241;43m2\u001b[39;49m\u001b[43m,\u001b[49m\u001b[43m \u001b[49m\u001b[43m_\u001b[49m\u001b[43m(\u001b[49m\u001b[38;5;124;43m'\u001b[39;49m\u001b[38;5;132;43;01m%(prog)s\u001b[39;49;00m\u001b[38;5;124;43m: error: \u001b[39;49m\u001b[38;5;132;43;01m%(message)s\u001b[39;49;00m\u001b[38;5;130;43;01m\\n\u001b[39;49;00m\u001b[38;5;124;43m'\u001b[39;49m\u001b[43m)\u001b[49m\u001b[43m \u001b[49m\u001b[38;5;241;43m%\u001b[39;49m\u001b[43m \u001b[49m\u001b[43margs\u001b[49m\u001b[43m)\u001b[49m\n",
      "File \u001b[0;32m/Library/Frameworks/Python.framework/Versions/3.12/lib/python3.12/argparse.py:2652\u001b[0m, in \u001b[0;36mArgumentParser.exit\u001b[0;34m(self, status, message)\u001b[0m\n\u001b[1;32m   2651\u001b[0m     \u001b[38;5;28mself\u001b[39m\u001b[38;5;241m.\u001b[39m_print_message(message, _sys\u001b[38;5;241m.\u001b[39mstderr)\n\u001b[0;32m-> 2652\u001b[0m \u001b[43m_sys\u001b[49m\u001b[38;5;241;43m.\u001b[39;49m\u001b[43mexit\u001b[49m\u001b[43m(\u001b[49m\u001b[43mstatus\u001b[49m\u001b[43m)\u001b[49m\n",
      "\u001b[0;31mSystemExit\u001b[0m: 2",
      "\nDuring handling of the above exception, another exception occurred:\n",
      "\u001b[0;31mAttributeError\u001b[0m                            Traceback (most recent call last)",
      "    \u001b[0;31m[... skipping hidden 1 frame]\u001b[0m\n",
      "File \u001b[0;32m~/Library/Python/3.12/lib/python/site-packages/IPython/core/interactiveshell.py:2145\u001b[0m, in \u001b[0;36mInteractiveShell.showtraceback\u001b[0;34m(self, exc_tuple, filename, tb_offset, exception_only, running_compiled_code)\u001b[0m\n\u001b[1;32m   2142\u001b[0m \u001b[38;5;28;01mif\u001b[39;00m exception_only:\n\u001b[1;32m   2143\u001b[0m     stb \u001b[38;5;241m=\u001b[39m [\u001b[38;5;124m'\u001b[39m\u001b[38;5;124mAn exception has occurred, use \u001b[39m\u001b[38;5;124m%\u001b[39m\u001b[38;5;124mtb to see \u001b[39m\u001b[38;5;124m'\u001b[39m\n\u001b[1;32m   2144\u001b[0m            \u001b[38;5;124m'\u001b[39m\u001b[38;5;124mthe full traceback.\u001b[39m\u001b[38;5;130;01m\\n\u001b[39;00m\u001b[38;5;124m'\u001b[39m]\n\u001b[0;32m-> 2145\u001b[0m     stb\u001b[38;5;241m.\u001b[39mextend(\u001b[38;5;28;43mself\u001b[39;49m\u001b[38;5;241;43m.\u001b[39;49m\u001b[43mInteractiveTB\u001b[49m\u001b[38;5;241;43m.\u001b[39;49m\u001b[43mget_exception_only\u001b[49m\u001b[43m(\u001b[49m\u001b[43metype\u001b[49m\u001b[43m,\u001b[49m\n\u001b[1;32m   2146\u001b[0m \u001b[43m                                                     \u001b[49m\u001b[43mvalue\u001b[49m\u001b[43m)\u001b[49m)\n\u001b[1;32m   2147\u001b[0m \u001b[38;5;28;01melse\u001b[39;00m:\n\u001b[1;32m   2149\u001b[0m     \u001b[38;5;28;01mdef\u001b[39;00m \u001b[38;5;21mcontains_exceptiongroup\u001b[39m(val):\n",
      "File \u001b[0;32m~/Library/Python/3.12/lib/python/site-packages/IPython/core/ultratb.py:710\u001b[0m, in \u001b[0;36mListTB.get_exception_only\u001b[0;34m(self, etype, value)\u001b[0m\n\u001b[1;32m    702\u001b[0m \u001b[38;5;28;01mdef\u001b[39;00m \u001b[38;5;21mget_exception_only\u001b[39m(\u001b[38;5;28mself\u001b[39m, etype, value):\n\u001b[1;32m    703\u001b[0m \u001b[38;5;250m    \u001b[39m\u001b[38;5;124;03m\"\"\"Only print the exception type and message, without a traceback.\u001b[39;00m\n\u001b[1;32m    704\u001b[0m \n\u001b[1;32m    705\u001b[0m \u001b[38;5;124;03m    Parameters\u001b[39;00m\n\u001b[0;32m   (...)\u001b[0m\n\u001b[1;32m    708\u001b[0m \u001b[38;5;124;03m    value : exception value\u001b[39;00m\n\u001b[1;32m    709\u001b[0m \u001b[38;5;124;03m    \"\"\"\u001b[39;00m\n\u001b[0;32m--> 710\u001b[0m     \u001b[38;5;28;01mreturn\u001b[39;00m \u001b[43mListTB\u001b[49m\u001b[38;5;241;43m.\u001b[39;49m\u001b[43mstructured_traceback\u001b[49m\u001b[43m(\u001b[49m\u001b[38;5;28;43mself\u001b[39;49m\u001b[43m,\u001b[49m\u001b[43m \u001b[49m\u001b[43metype\u001b[49m\u001b[43m,\u001b[49m\u001b[43m \u001b[49m\u001b[43mvalue\u001b[49m\u001b[43m)\u001b[49m\n",
      "File \u001b[0;32m~/Library/Python/3.12/lib/python/site-packages/IPython/core/ultratb.py:568\u001b[0m, in \u001b[0;36mListTB.structured_traceback\u001b[0;34m(self, etype, evalue, etb, tb_offset, context)\u001b[0m\n\u001b[1;32m    565\u001b[0m     chained_exc_ids\u001b[38;5;241m.\u001b[39madd(\u001b[38;5;28mid\u001b[39m(exception[\u001b[38;5;241m1\u001b[39m]))\n\u001b[1;32m    566\u001b[0m     chained_exceptions_tb_offset \u001b[38;5;241m=\u001b[39m \u001b[38;5;241m0\u001b[39m\n\u001b[1;32m    567\u001b[0m     out_list \u001b[38;5;241m=\u001b[39m (\n\u001b[0;32m--> 568\u001b[0m         \u001b[38;5;28;43mself\u001b[39;49m\u001b[38;5;241;43m.\u001b[39;49m\u001b[43mstructured_traceback\u001b[49m\u001b[43m(\u001b[49m\n\u001b[1;32m    569\u001b[0m \u001b[43m            \u001b[49m\u001b[43metype\u001b[49m\u001b[43m,\u001b[49m\n\u001b[1;32m    570\u001b[0m \u001b[43m            \u001b[49m\u001b[43mevalue\u001b[49m\u001b[43m,\u001b[49m\n\u001b[1;32m    571\u001b[0m \u001b[43m            \u001b[49m\u001b[43m(\u001b[49m\u001b[43metb\u001b[49m\u001b[43m,\u001b[49m\u001b[43m \u001b[49m\u001b[43mchained_exc_ids\u001b[49m\u001b[43m)\u001b[49m\u001b[43m,\u001b[49m\u001b[43m  \u001b[49m\u001b[38;5;66;43;03m# type: ignore\u001b[39;49;00m\n\u001b[1;32m    572\u001b[0m \u001b[43m            \u001b[49m\u001b[43mchained_exceptions_tb_offset\u001b[49m\u001b[43m,\u001b[49m\n\u001b[1;32m    573\u001b[0m \u001b[43m            \u001b[49m\u001b[43mcontext\u001b[49m\u001b[43m,\u001b[49m\n\u001b[1;32m    574\u001b[0m \u001b[43m        \u001b[49m\u001b[43m)\u001b[49m\n\u001b[1;32m    575\u001b[0m         \u001b[38;5;241m+\u001b[39m chained_exception_message\n\u001b[1;32m    576\u001b[0m         \u001b[38;5;241m+\u001b[39m out_list)\n\u001b[1;32m    578\u001b[0m \u001b[38;5;28;01mreturn\u001b[39;00m out_list\n",
      "File \u001b[0;32m~/Library/Python/3.12/lib/python/site-packages/IPython/core/ultratb.py:1454\u001b[0m, in \u001b[0;36mAutoFormattedTB.structured_traceback\u001b[0;34m(self, etype, evalue, etb, tb_offset, number_of_lines_of_context)\u001b[0m\n\u001b[1;32m   1452\u001b[0m \u001b[38;5;28;01melse\u001b[39;00m:\n\u001b[1;32m   1453\u001b[0m     \u001b[38;5;28mself\u001b[39m\u001b[38;5;241m.\u001b[39mtb \u001b[38;5;241m=\u001b[39m etb\n\u001b[0;32m-> 1454\u001b[0m \u001b[38;5;28;01mreturn\u001b[39;00m \u001b[43mFormattedTB\u001b[49m\u001b[38;5;241;43m.\u001b[39;49m\u001b[43mstructured_traceback\u001b[49m\u001b[43m(\u001b[49m\n\u001b[1;32m   1455\u001b[0m \u001b[43m    \u001b[49m\u001b[38;5;28;43mself\u001b[39;49m\u001b[43m,\u001b[49m\u001b[43m \u001b[49m\u001b[43metype\u001b[49m\u001b[43m,\u001b[49m\u001b[43m \u001b[49m\u001b[43mevalue\u001b[49m\u001b[43m,\u001b[49m\u001b[43m \u001b[49m\u001b[43metb\u001b[49m\u001b[43m,\u001b[49m\u001b[43m \u001b[49m\u001b[43mtb_offset\u001b[49m\u001b[43m,\u001b[49m\u001b[43m \u001b[49m\u001b[43mnumber_of_lines_of_context\u001b[49m\n\u001b[1;32m   1456\u001b[0m \u001b[43m\u001b[49m\u001b[43m)\u001b[49m\n",
      "File \u001b[0;32m~/Library/Python/3.12/lib/python/site-packages/IPython/core/ultratb.py:1345\u001b[0m, in \u001b[0;36mFormattedTB.structured_traceback\u001b[0;34m(self, etype, value, tb, tb_offset, number_of_lines_of_context)\u001b[0m\n\u001b[1;32m   1342\u001b[0m mode \u001b[38;5;241m=\u001b[39m \u001b[38;5;28mself\u001b[39m\u001b[38;5;241m.\u001b[39mmode\n\u001b[1;32m   1343\u001b[0m \u001b[38;5;28;01mif\u001b[39;00m mode \u001b[38;5;129;01min\u001b[39;00m \u001b[38;5;28mself\u001b[39m\u001b[38;5;241m.\u001b[39mverbose_modes:\n\u001b[1;32m   1344\u001b[0m     \u001b[38;5;66;03m# Verbose modes need a full traceback\u001b[39;00m\n\u001b[0;32m-> 1345\u001b[0m     \u001b[38;5;28;01mreturn\u001b[39;00m \u001b[43mVerboseTB\u001b[49m\u001b[38;5;241;43m.\u001b[39;49m\u001b[43mstructured_traceback\u001b[49m\u001b[43m(\u001b[49m\n\u001b[1;32m   1346\u001b[0m \u001b[43m        \u001b[49m\u001b[38;5;28;43mself\u001b[39;49m\u001b[43m,\u001b[49m\u001b[43m \u001b[49m\u001b[43metype\u001b[49m\u001b[43m,\u001b[49m\u001b[43m \u001b[49m\u001b[43mvalue\u001b[49m\u001b[43m,\u001b[49m\u001b[43m \u001b[49m\u001b[43mtb\u001b[49m\u001b[43m,\u001b[49m\u001b[43m \u001b[49m\u001b[43mtb_offset\u001b[49m\u001b[43m,\u001b[49m\u001b[43m \u001b[49m\u001b[43mnumber_of_lines_of_context\u001b[49m\n\u001b[1;32m   1347\u001b[0m \u001b[43m    \u001b[49m\u001b[43m)\u001b[49m\n\u001b[1;32m   1348\u001b[0m \u001b[38;5;28;01melif\u001b[39;00m mode \u001b[38;5;241m==\u001b[39m \u001b[38;5;124m'\u001b[39m\u001b[38;5;124mMinimal\u001b[39m\u001b[38;5;124m'\u001b[39m:\n\u001b[1;32m   1349\u001b[0m     \u001b[38;5;28;01mreturn\u001b[39;00m ListTB\u001b[38;5;241m.\u001b[39mget_exception_only(\u001b[38;5;28mself\u001b[39m, etype, value)\n",
      "File \u001b[0;32m~/Library/Python/3.12/lib/python/site-packages/IPython/core/ultratb.py:1192\u001b[0m, in \u001b[0;36mVerboseTB.structured_traceback\u001b[0;34m(self, etype, evalue, etb, tb_offset, number_of_lines_of_context)\u001b[0m\n\u001b[1;32m   1183\u001b[0m \u001b[38;5;28;01mdef\u001b[39;00m \u001b[38;5;21mstructured_traceback\u001b[39m(\n\u001b[1;32m   1184\u001b[0m     \u001b[38;5;28mself\u001b[39m,\n\u001b[1;32m   1185\u001b[0m     etype: \u001b[38;5;28mtype\u001b[39m,\n\u001b[0;32m   (...)\u001b[0m\n\u001b[1;32m   1189\u001b[0m     number_of_lines_of_context: \u001b[38;5;28mint\u001b[39m \u001b[38;5;241m=\u001b[39m \u001b[38;5;241m5\u001b[39m,\n\u001b[1;32m   1190\u001b[0m ):\n\u001b[1;32m   1191\u001b[0m \u001b[38;5;250m    \u001b[39m\u001b[38;5;124;03m\"\"\"Return a nice text document describing the traceback.\"\"\"\u001b[39;00m\n\u001b[0;32m-> 1192\u001b[0m     formatted_exception \u001b[38;5;241m=\u001b[39m \u001b[38;5;28;43mself\u001b[39;49m\u001b[38;5;241;43m.\u001b[39;49m\u001b[43mformat_exception_as_a_whole\u001b[49m\u001b[43m(\u001b[49m\u001b[43metype\u001b[49m\u001b[43m,\u001b[49m\u001b[43m \u001b[49m\u001b[43mevalue\u001b[49m\u001b[43m,\u001b[49m\u001b[43m \u001b[49m\u001b[43metb\u001b[49m\u001b[43m,\u001b[49m\u001b[43m \u001b[49m\u001b[43mnumber_of_lines_of_context\u001b[49m\u001b[43m,\u001b[49m\n\u001b[1;32m   1193\u001b[0m \u001b[43m                                                           \u001b[49m\u001b[43mtb_offset\u001b[49m\u001b[43m)\u001b[49m\n\u001b[1;32m   1195\u001b[0m     colors \u001b[38;5;241m=\u001b[39m \u001b[38;5;28mself\u001b[39m\u001b[38;5;241m.\u001b[39mColors  \u001b[38;5;66;03m# just a shorthand + quicker name lookup\u001b[39;00m\n\u001b[1;32m   1196\u001b[0m     colorsnormal \u001b[38;5;241m=\u001b[39m colors\u001b[38;5;241m.\u001b[39mNormal  \u001b[38;5;66;03m# used a lot\u001b[39;00m\n",
      "File \u001b[0;32m~/Library/Python/3.12/lib/python/site-packages/IPython/core/ultratb.py:1082\u001b[0m, in \u001b[0;36mVerboseTB.format_exception_as_a_whole\u001b[0;34m(self, etype, evalue, etb, number_of_lines_of_context, tb_offset)\u001b[0m\n\u001b[1;32m   1079\u001b[0m \u001b[38;5;28;01massert\u001b[39;00m \u001b[38;5;28misinstance\u001b[39m(tb_offset, \u001b[38;5;28mint\u001b[39m)\n\u001b[1;32m   1080\u001b[0m head \u001b[38;5;241m=\u001b[39m \u001b[38;5;28mself\u001b[39m\u001b[38;5;241m.\u001b[39mprepare_header(\u001b[38;5;28mstr\u001b[39m(etype), \u001b[38;5;28mself\u001b[39m\u001b[38;5;241m.\u001b[39mlong_header)\n\u001b[1;32m   1081\u001b[0m records \u001b[38;5;241m=\u001b[39m (\n\u001b[0;32m-> 1082\u001b[0m     \u001b[38;5;28;43mself\u001b[39;49m\u001b[38;5;241;43m.\u001b[39;49m\u001b[43mget_records\u001b[49m\u001b[43m(\u001b[49m\u001b[43metb\u001b[49m\u001b[43m,\u001b[49m\u001b[43m \u001b[49m\u001b[43mnumber_of_lines_of_context\u001b[49m\u001b[43m,\u001b[49m\u001b[43m \u001b[49m\u001b[43mtb_offset\u001b[49m\u001b[43m)\u001b[49m \u001b[38;5;28;01mif\u001b[39;00m etb \u001b[38;5;28;01melse\u001b[39;00m []\n\u001b[1;32m   1083\u001b[0m )\n\u001b[1;32m   1085\u001b[0m frames \u001b[38;5;241m=\u001b[39m []\n\u001b[1;32m   1086\u001b[0m skipped \u001b[38;5;241m=\u001b[39m \u001b[38;5;241m0\u001b[39m\n",
      "File \u001b[0;32m~/Library/Python/3.12/lib/python/site-packages/IPython/core/ultratb.py:1150\u001b[0m, in \u001b[0;36mVerboseTB.get_records\u001b[0;34m(self, etb, number_of_lines_of_context, tb_offset)\u001b[0m\n\u001b[1;32m   1148\u001b[0m \u001b[38;5;28;01mwhile\u001b[39;00m cf \u001b[38;5;129;01mis\u001b[39;00m \u001b[38;5;129;01mnot\u001b[39;00m \u001b[38;5;28;01mNone\u001b[39;00m:\n\u001b[1;32m   1149\u001b[0m     \u001b[38;5;28;01mtry\u001b[39;00m:\n\u001b[0;32m-> 1150\u001b[0m         mod \u001b[38;5;241m=\u001b[39m inspect\u001b[38;5;241m.\u001b[39mgetmodule(\u001b[43mcf\u001b[49m\u001b[38;5;241;43m.\u001b[39;49m\u001b[43mtb_frame\u001b[49m)\n\u001b[1;32m   1151\u001b[0m         \u001b[38;5;28;01mif\u001b[39;00m mod \u001b[38;5;129;01mis\u001b[39;00m \u001b[38;5;129;01mnot\u001b[39;00m \u001b[38;5;28;01mNone\u001b[39;00m:\n\u001b[1;32m   1152\u001b[0m             mod_name \u001b[38;5;241m=\u001b[39m mod\u001b[38;5;241m.\u001b[39m\u001b[38;5;18m__name__\u001b[39m\n",
      "\u001b[0;31mAttributeError\u001b[0m: 'tuple' object has no attribute 'tb_frame'"
     ]
    }
   ],
   "source": [
    "import unittest\n",
    "from genap_app import CheckGenap # from <module name> import <function name>\n",
    "\n",
    "class TestCheckGenap(unittest.TestCase):\n",
    "    def test_CheckGenap_success1(self):\n",
    "        #input\n",
    "        num = 10\n",
    "        #proses\n",
    "        result = CheckGenap(num)\n",
    "        #output\n",
    "        self.assertEqual(result, 'Ini bilangan genap.')\n",
    "\n",
    "        # ini versi penulisan 1 line\n",
    "        # self.assertEqual(CheckGenap(10), 'Ini bilangan genap.')\n",
    "\n",
    "    def test_CheckGenap_success2(self):\n",
    "        self.assertEqual(CheckGenap(3), 'Ini bilangan ganjil.')\n",
    "\n",
    "# idiom unittest\n",
    "if __name__ == '__main__':\n",
    "    unittest.main(verbosity=1)\n",
    "\n",
    "    "
   ]
  },
  {
   "cell_type": "markdown",
   "metadata": {},
   "source": [
    "## helpingggg"
   ]
  },
  {
   "cell_type": "code",
   "execution_count": 79,
   "metadata": {},
   "outputs": [
    {
     "ename": "TypeError",
     "evalue": "BankAccount.deposit() takes 1 positional argument but 2 were given",
     "output_type": "error",
     "traceback": [
      "\u001b[0;31m---------------------------------------------------------------------------\u001b[0m",
      "\u001b[0;31mTypeError\u001b[0m                                 Traceback (most recent call last)",
      "Cell \u001b[0;32mIn[79], line 25\u001b[0m\n\u001b[1;32m     22\u001b[0m     \u001b[38;5;28;01mdef\u001b[39;00m \u001b[38;5;21mcheck_balance\u001b[39m(\u001b[38;5;28mself\u001b[39m):\n\u001b[1;32m     23\u001b[0m         \u001b[38;5;28;01mreturn\u001b[39;00m \u001b[38;5;124mf\u001b[39m\u001b[38;5;124m\"\u001b[39m\u001b[38;5;124msaldo akhir = \u001b[39m\u001b[38;5;132;01m{\u001b[39;00m\u001b[38;5;28mself\u001b[39m\u001b[38;5;241m.\u001b[39mbalance\u001b[38;5;132;01m}\u001b[39;00m\u001b[38;5;124m\"\u001b[39m\n\u001b[0;32m---> 25\u001b[0m \u001b[43maccount\u001b[49m\u001b[38;5;241;43m.\u001b[39;49m\u001b[43mdeposit\u001b[49m\u001b[43m(\u001b[49m\u001b[38;5;241;43m7500\u001b[39;49m\u001b[43m)\u001b[49m\n\u001b[1;32m     26\u001b[0m account\u001b[38;5;241m.\u001b[39mget_balance()\n",
      "\u001b[0;31mTypeError\u001b[0m: BankAccount.deposit() takes 1 positional argument but 2 were given"
     ]
    }
   ],
   "source": [
    "class BankAccount():\n",
    "    def init(self, account_number=123, costuner_name='dani', balance=0):\n",
    "        self.account_number = account_number\n",
    "        self.costumer_name = costuner_name\n",
    "        self.balance = balance\n",
    "        self.date_of_opening = datetime.now()\n",
    "\n",
    "    def deposit(self, amount):\n",
    "        self.balance += amount\n",
    "        print(f\"saldomu bertambah = {amount}.\")\n",
    "        return f\"saldo akhir = {self.balance}\"\n",
    "\n",
    "    def withdraw(self, amount):\n",
    "        if amount > self.balance:\n",
    "            print(\"Anda tidak memiliki saldo cukup.\")\n",
    "            return f\"saldomu hanya {self.balance}\"\n",
    "        else:\n",
    "            self.balance -= amount\n",
    "            print(f\"saldomu berkurang = {amount}.\")\n",
    "            return f\"saldomu hanya = {self.balance}\"\n",
    "\n",
    "    def check_balance(self):\n",
    "        return f\"saldo akhir = {self.balance}\"\n",
    "\n",
    "account.deposit(7500)\n",
    "account.get_balance()"
   ]
  }
 ],
 "metadata": {
  "kernelspec": {
   "display_name": "Python 3",
   "language": "python",
   "name": "python3"
  },
  "language_info": {
   "codemirror_mode": {
    "name": "ipython",
    "version": 3
   },
   "file_extension": ".py",
   "mimetype": "text/x-python",
   "name": "python",
   "nbconvert_exporter": "python",
   "pygments_lexer": "ipython3",
   "version": "3.12.3"
  }
 },
 "nbformat": 4,
 "nbformat_minor": 2
}
