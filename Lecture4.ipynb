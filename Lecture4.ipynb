{
 "cells": [
  {
   "cell_type": "code",
   "execution_count": 66,
   "metadata": {},
   "outputs": [
    {
     "name": "stdout",
     "output_type": "stream",
     "text": [
      "<__main__.Book object at 0x111ee7c80>\n",
      "a5\n",
      "Buku harry potter udah diuka!\n"
     ]
    }
   ],
   "source": [
    "'''\n",
    "oop: paradigma pemrograman yang ebasis ojek. objek memiliki:\n",
    "\n",
    "atribut data\n",
    "perilaku/metode(fungsi)\n",
    "\n",
    "case - system perpustakaan > menyimpakan buku\n",
    "sebelum membuat oject, kita perlu class(blueprint/rencana)\n",
    "\n",
    "class memiliki:\n",
    "\n",
    "atribut > nama, penulis, warna, jumlah halaman, ukuran kertas\n",
    "\n",
    "misal: buku > 'harry potter', 'jk rowling', 'hijau', '200',' a5'\n",
    "\n",
    "\n",
    "\n",
    "'''\n",
    "\n",
    "class Book():\n",
    "    #define atribute\n",
    "    def __init__(self):\n",
    "        self.title = 'harry potter'\n",
    "        self.author = 'jk rowling'\n",
    "        self.bookColor = 'hijau'\n",
    "        self.pages = 500\n",
    "        self.size = 'a5'\n",
    "\n",
    "        #define behavior\n",
    "    def openBook(self):\n",
    "        print(f\"Buku {self.title} udah diuka!\")\n",
    "\n",
    "book = Book()\n",
    "\n",
    "print(book)\n",
    "\n",
    "print(book.size)\n",
    "\n",
    "book.openBook()\n",
    "\n",
    "\n"
   ]
  },
  {
   "cell_type": "markdown",
   "metadata": {},
   "source": [
    "## creating book class"
   ]
  },
  {
   "cell_type": "code",
   "execution_count": 67,
   "metadata": {},
   "outputs": [
    {
     "name": "stdout",
     "output_type": "stream",
     "text": [
      "harry potter oleh jk rowling. warna hijau halaman 200 ukuran a5\n",
      "harry potter\n",
      "eichero\n",
      "harry potter oleh jk rowling dibuka\n",
      "Sedang ada one piece oleh eichero\n",
      "harry potter oleh jk rowling dipinjam\n",
      "Buku one piece dikembalikan\n"
     ]
    }
   ],
   "source": [
    "class Book:\n",
    "    def __init__(self, title, author, bookColor, pages, size):\n",
    "             self.title = title\n",
    "             self.author = author\n",
    "             self.bookColor = bookColor\n",
    "             self.pages = pages\n",
    "             self.size = size\n",
    "             self.books = []\n",
    "\n",
    "    def openBook(self):\n",
    "        print(f\"{self.title} oleh {self.author} dibuka\")\n",
    "    def readBook(self):\n",
    "        print(f\"Sedang ada {self.title} oleh {self.author}\")\n",
    "    def borrowBook(self):\n",
    "        print(f\"{self.title} oleh {self.author} dipinjam\")\n",
    "\n",
    "    def returnBook(self):\n",
    "        print(f\"Buku {self.title} dikembalikan\")\n",
    "    \n",
    "    def __str__(self):\n",
    "        return f\"{self.title} oleh {self.author}. warna {self.bookColor} halaman {self.pages} ukuran {self.size}\"\n",
    "    \n",
    "    def listBook(self):\n",
    "         for book in self.books:\n",
    "              print(f\"{book.title} oleh {book.author}\")\n",
    "    \n",
    "print(book1)\n",
    "\n",
    "book1 = Book (\"harry potter\", \"jk rowling\", \"hijau\", 200, \"a5\")\n",
    "book2 = Book (\"one piece\", \"eichero\", \"merah\", 50, \"b5\")\n",
    "\n",
    "print(book1.title)\n",
    "print(book2.author)\n",
    "\n",
    "book1.openBook()\n",
    "book2.readBook()\n",
    "book1.borrowBook()\n",
    "book2.returnBook()\n",
    "\n",
    "books= []\n",
    "\n",
    "\n",
    "\n",
    "\n"
   ]
  },
  {
   "cell_type": "markdown",
   "metadata": {},
   "source": [
    "## add to library"
   ]
  },
  {
   "cell_type": "code",
   "execution_count": 68,
   "metadata": {},
   "outputs": [
    {
     "name": "stdout",
     "output_type": "stream",
     "text": [
      "Naruto oleh masashi telah ditambah\n",
      "sebuah Seni untuk Bersikap Bodo oleh mark telah ditambah\n"
     ]
    }
   ],
   "source": [
    "class Library():\n",
    "    '''\n",
    "    class ini bertujuan untuk menampbahkan uku ke daftar untuk perpustakaan\n",
    "    step 1- menambahkan buku\n",
    "    step 2 - melihate daftar uku yang telah ditambahkan\n",
    "    '''\n",
    "    def __init__(self):\n",
    "        self.books = []\n",
    "\n",
    "    #fungsi ehavior menambahkan buku ke dalam list dengan '.append()'\n",
    "    def addBook(self, book):\n",
    "        self.books.append(book)\n",
    "        #mencetakan kalimat sebagai tanda buku sudah berhasil ditambahkan\n",
    "        print(f\"{book.title} oleh {book.author} telah ditambah\")\n",
    "        \n",
    "    #fungsi\n",
    "    def listBook(self):\n",
    "        for book in self.books:\n",
    "            print(f\"{book.title} oleh {book.author}\")\n",
    "\n",
    "#memuat object untuk beberapa buku\n",
    "book1 = Book(\"Naruto\", \"masashi\",  \"Orange\", 700, \"a5\")\n",
    "book2 = Book(\"sebuah Seni untuk Bersikap Bodo\", \"mark\", \"Merah\", 224, \"a5\")\n",
    "\n",
    "#memuat perpustakaan\n",
    "library = Library()\n",
    "\n",
    "library.addBook(book1)\n",
    "library.addBook(book2)"
   ]
  },
  {
   "cell_type": "markdown",
   "metadata": {},
   "source": [
    "## secret book class\n"
   ]
  },
  {
   "cell_type": "code",
   "execution_count": 85,
   "metadata": {},
   "outputs": [
    {
     "name": "stdout",
     "output_type": "stream",
     "text": [
      "harry potter oleh jk rowling. warna hijau halaman 200 ukuran a5\n",
      "harry potter\n",
      "eichero\n",
      "harry potter oleh jk rowling dibuka\n",
      "Sedang ada one piece oleh eichero\n",
      "harry potter oleh jk rowling dipinjam\n",
      "Buku one piece dikembalikan\n"
     ]
    }
   ],
   "source": [
    "class Book:\n",
    "    def __init__(self, title, author, bookColor, pages, size):\n",
    "             self.title = title\n",
    "             self.author = author\n",
    "             self.bookColor = bookColor\n",
    "             self.pages = pages\n",
    "             self.size = size\n",
    "             self.books = []\n",
    "\n",
    "    def openBook(self):\n",
    "        print(f\"{self.title} oleh {self.author} dibuka\")\n",
    "    def readBook(self):\n",
    "        print(f\"Sedang ada {self.title} oleh {self.author}\")\n",
    "    def borrowBook(self):\n",
    "        print(f\"{self.title} oleh {self.author} dipinjam\")\n",
    "\n",
    "    def returnBook(self):\n",
    "        print(f\"Buku {self.title} dikembalikan\")\n",
    "    \n",
    "    def __str__(self):\n",
    "        return f\"{self.title} oleh {self.author}. warna {self.bookColor} halaman {self.pages} ukuran {self.size}\"\n",
    "    \n",
    "    def listBook(self):\n",
    "         for book in self.books:\n",
    "              print(f\"{book.title} oleh {book.author}\")\n",
    "    \n",
    "print(book1)\n",
    "\n",
    "book1 = Book (\"harry potter\", \"jk rowling\", \"hijau\", 200, \"a5\")\n",
    "book2 = Book (\"one piece\", \"eichero\", \"merah\", 50, \"b5\")\n",
    "\n",
    "print(book1.title)\n",
    "print(book2.author)\n",
    "\n",
    "book1.openBook()\n",
    "book2.readBook()\n",
    "book1.borrowBook()\n",
    "book2.returnBook()\n",
    "\n",
    "books= []\n",
    "\n",
    "\n",
    "\n",
    "\n"
   ]
  },
  {
   "cell_type": "markdown",
   "metadata": {},
   "source": [
    "## inheritance"
   ]
  },
  {
   "cell_type": "code",
   "execution_count": 86,
   "metadata": {},
   "outputs": [
    {
     "name": "stdout",
     "output_type": "stream",
     "text": [
      "Sedang membaca majalah national geo edisi april 2024 oleh johm\n"
     ]
    }
   ],
   "source": [
    "'''\n",
    "class ook seagai class orang tua\n",
    "class Magazine sebagai class anak\n",
    "'''\n",
    "\n",
    "class Magazine(Book):\n",
    "    def __init__(self, title, author, bookColor, pages, size, issue):\n",
    "        super().__init__(title, author, bookColor, pages, size) #memanggil metode init dari class orang tua\n",
    "        self.issue = issue #atribut baru di Magazine\n",
    "\n",
    "    def readMagazine(self): #behavior baru untuk Magazine\n",
    "        print(f\"Sedang membaca majalah {self.title} edisi {self.issue} oleh {self.author}\")\n",
    "\n",
    "#create magazine\n",
    "magazine = Magazine(\"national geo\", \"johm\", \"yellow\", 120, \"a4\", \"april 2024\")\n",
    "\n",
    "#memanggil behavior baru\n",
    "magazine.readMagazine()"
   ]
  },
  {
   "cell_type": "markdown",
   "metadata": {},
   "source": [
    "## Trial child class called Newspaper "
   ]
  },
  {
   "cell_type": "code",
   "execution_count": 71,
   "metadata": {},
   "outputs": [
    {
     "name": "stdout",
     "output_type": "stream",
     "text": [
      "Sedang membaca koran tribune edisi may 2024 oleh ryan\n"
     ]
    }
   ],
   "source": [
    "class Newspaper(Book):\n",
    "    def __init__(self, title, author, bookColor, pages, size, issue):  #attribute\n",
    "        Book.__init__(self, title, author, bookColor, pages, size) #memanggil metode init dari class orang tua\n",
    "        self.issue = issue #atriut baru di Magazine\n",
    "\n",
    "    def readNewspaper(self): #behavior baru untuk Newspaper #behavior\n",
    "        print(f\"Sedang membaca koran {self.title} edisi {self.issue} oleh {self.author}\")\n",
    "\n",
    "newspaper = Newspaper(\"tribune\", \"ryan\", \"green\", 100, \"newspaper\", \"may 2024\")\n",
    "\n",
    "newspaper.readNewspaper()\n",
    "        "
   ]
  },
  {
   "cell_type": "markdown",
   "metadata": {},
   "source": [
    "## new class with 3 parents"
   ]
  },
  {
   "cell_type": "code",
   "execution_count": 82,
   "metadata": {},
   "outputs": [
    {
     "name": "stdout",
     "output_type": "stream",
     "text": [
      "Sedang membaca laskar oleh Andrea.\n",
      "Sedang memaca uku harry potter oleh JK rowling.\n",
      "Sedang membaca majalah national geo edisi April 2024 oleh john.\n"
     ]
    }
   ],
   "source": [
    "class Publication(): #kakek\n",
    "    def __init__(self, title, author):\n",
    "        self.title = title\n",
    "        self.author = author\n",
    "        \n",
    "    def read(self):\n",
    "        print(f\"Sedang membaca {self.title} oleh {self.author}.\")\n",
    "\n",
    "class Book(Publication): #Bapak\n",
    "    def __init__(self, title, author, bookColor, pages, sizes):\n",
    "        super().__init__(title, author) # memanggil metode init dari kakek\n",
    "    #atribut atribut baru\n",
    "        self.bookColor = bookColor\n",
    "        self.pages = pages\n",
    "        self.size = sizes\n",
    "\n",
    "    def read(self):\n",
    "        print(f\"Sedang memaca uku {self.title} oleh {self.author}.\")\n",
    "\n",
    "class Magazine(Book): #anak\n",
    "    def __init__(self, title, author, bookColor, pages, size, issue):\n",
    "        super().__init__(title, author, bookColor, pages, size) #memanggil metode init dark bapak\n",
    "        self.issue = issue #atribut baru\n",
    "\n",
    "    def read(self): #new method specifi to Magazine\n",
    "        print(f\"Sedang membaca majalah {self.title} edisi {self.issue} oleh {self.author}.\")\n",
    "# bikin object untuk class Book dan Magazine\n",
    "publication = Publication(\"laskar\", \"Andrea\")\n",
    "book = Book(\"harry potter\", \"JK rowling\", \"Hijau\", 200, \"A5\")\n",
    "magazine = Magazine(\"national geo\", \"john\", \"yellow\", 120, \"a4\", \"April 2024\")\n",
    "\n",
    "#bisa memanggil behavior yang sama dari class yang berbeda\n",
    "for x in [publication, book, magazine]:\n",
    "    x.read()"
   ]
  },
  {
   "cell_type": "markdown",
   "metadata": {},
   "source": [
    "## bank account case"
   ]
  },
  {
   "cell_type": "code",
   "execution_count": null,
   "metadata": {},
   "outputs": [],
   "source": []
  }
 ],
 "metadata": {
  "kernelspec": {
   "display_name": "Python 3",
   "language": "python",
   "name": "python3"
  },
  "language_info": {
   "codemirror_mode": {
    "name": "ipython",
    "version": 3
   },
   "file_extension": ".py",
   "mimetype": "text/x-python",
   "name": "python",
   "nbconvert_exporter": "python",
   "pygments_lexer": "ipython3",
   "version": "3.12.3"
  }
 },
 "nbformat": 4,
 "nbformat_minor": 2
}
