{
 "cells": [
  {
   "cell_type": "markdown",
   "metadata": {},
   "source": [
    "Task #1 NGC #2 "
   ]
  },
  {
   "cell_type": "code",
   "execution_count": 13,
   "metadata": {},
   "outputs": [
    {
     "name": "stdout",
     "output_type": "stream",
     "text": [
      "2\n",
      "8\n"
     ]
    }
   ],
   "source": [
    "def number_of_word(sentence):\n",
    "    # Split the sentence into a list of words using the .split() method\n",
    "    words = sentence.split()\n",
    "    # Count the number of elements in the list using the len() function\n",
    "    word_count = len(words)\n",
    "    # Return the number of words\n",
    "    return word_count\n",
    "\n",
    "# Example usage:\n",
    "print(number_of_word('Hello World!'))  # Output: 2\n",
    "print(number_of_word('Once Upon a Time in a faraway land'))  # Output: 6\n"
   ]
  },
  {
   "cell_type": "markdown",
   "metadata": {},
   "source": [
    "Task #2"
   ]
  },
  {
   "cell_type": "code",
   "execution_count": null,
   "metadata": {},
   "outputs": [],
   "source": [
    "def find_multiples(start_range, end_range, multiple):\n",
    "    # Initialize an empty list to store the multiples\n",
    "    multiples_list = []\n",
    "    \n",
    "    # Iterate over the range from start_range to end_range (inclusive)\n",
    "    for number in range(start_range, end_range + 1):\n",
    "        # Check if the current number is a multiple of 'multiple'\n",
    "        if number % multiple == 0:\n",
    "            # If it is, add it to the list of multiples\n",
    "            multiples_list.append(number)\n",
    "    \n",
    "    # Return the list of multiples\n",
    "    return multiples_list\n",
    "\n",
    "# Example usage:\n",
    "print(find_multiples(1, 20, 5))  # Output: [5, 10, 15, 20]\n",
    "print(find_multiples(1, 50, 10))  # Output: [10, 20, 30, 40, 50]\n"
   ]
  },
  {
   "cell_type": "markdown",
   "metadata": {},
   "source": [
    "Task 3"
   ]
  },
  {
   "cell_type": "code",
   "execution_count": 3,
   "metadata": {},
   "outputs": [
    {
     "name": "stdout",
     "output_type": "stream",
     "text": [
      "{'Alice': 'A', 'Bob': 'B', 'Charlie': 'C', 'David': 'D', 'Eve': 'E', 'Frank': 'F'}\n",
      "{'Alice': 4.0, 'Bob': 3.0, 'Charlie': 2.5, 'David': 2.0, 'Eve': 1.5, 'Frank': 1.0}\n"
     ]
    }
   ],
   "source": [
    "def Grade_Converter(convert_to, **kwargs):\n",
    "    # Define the conversion criteria for letter grades and GPA\n",
    "    grade_conversion = {\n",
    "        'A': (85, 100, 4.0),\n",
    "        'B': (70, 84.99, 3.0),\n",
    "        'C': (60, 69.99, 2.5),\n",
    "        'D': (50, 59.99, 2.0),\n",
    "        'E': (40, 49.99, 1.5),\n",
    "        'F': (0, 39.99, 1.0)\n",
    "    }\n",
    "    \n",
    "    # Initialize an empty dictionary to store the results\n",
    "    converted_grades = {}\n",
    "    \n",
    "    # Iterate through each student and their score in kwargs\n",
    "    for student, score in kwargs.items():\n",
    "        for grade, (min_score, max_score, gpa) in grade_conversion.items():\n",
    "            if min_score <= score <= max_score:\n",
    "                if convert_to == 'letter_grade':\n",
    "                    converted_grades[student] = grade\n",
    "                elif convert_to == 'gpa':\n",
    "                    converted_grades[student] = gpa\n",
    "                break\n",
    "    \n",
    "    # Return the dictionary of converted grades\n",
    "    return converted_grades\n",
    "\n",
    "# Example usage:\n",
    "students_scores = {\n",
    "    'Alice': 92,\n",
    "    'Bob': 78,\n",
    "    'Charlie': 65,\n",
    "    'David': 55,\n",
    "    'Eve': 45,\n",
    "    'Frank': 35\n",
    "}\n",
    "\n",
    "print(Grade_Converter('letter_grade', **students_scores))\n",
    "# Output: {'Alice': 'A', 'Bob': 'B', 'Charlie': 'C', 'David': 'D', 'Eve': 'E', 'Frank': 'F'}\n",
    "\n",
    "print(Grade_Converter('gpa', **students_scores))\n",
    "# Output: {'Alice': 4.0, 'Bob': 3.0, 'Charlie': 2.5, 'David': 2.0, 'Eve': 1.5, 'Frank': 1.0}\n"
   ]
  },
  {
   "cell_type": "markdown",
   "metadata": {},
   "source": [
    "Task 4"
   ]
  },
  {
   "cell_type": "code",
   "execution_count": 7,
   "metadata": {},
   "outputs": [
    {
     "name": "stdout",
     "output_type": "stream",
     "text": [
      "[0, 1, 1, 2, 3, 5, 8, 13, 21, 34, 55, 89, 144, 233, 377, 610, 987, 1597, 2584, 4181, 6765, 10946, 17711]\n",
      "[0, 1, 1, 2, 3]\n"
     ]
    }
   ],
   "source": [
    "def fibonacci_sequence(n):\n",
    "    # Initialize the list with the first two Fibonacci numbers\n",
    "    fib_sequence = [0, 1]\n",
    "    \n",
    "    # Generate the Fibonacci sequence up to the nth number\n",
    "    while len(fib_sequence) < n:\n",
    "        # Calculate the next Fibonacci number by summing the last two numbers in the sequence\n",
    "        next_fib = fib_sequence[-1] + fib_sequence[-2]\n",
    "        # Append the next Fibonacci number to the sequence\n",
    "        fib_sequence.append(next_fib)\n",
    "    \n",
    "    # If the requested length is less than 2, adjust the output accordingly\n",
    "    if n == 0:\n",
    "        return []\n",
    "    elif n == 1:\n",
    "        return [0]\n",
    "    \n",
    "    # Return the Fibonacci sequence up to the nth number\n",
    "    return fib_sequence[:n]\n",
    "\n",
    "# Example usage:\n",
    "print(fibonacci_sequence(23))  # Output: [0, 1, 1, 2, 3, 5, 8, 13, 21, 34]\n",
    "print(fibonacci_sequence(5))   # Output: [0, 1, 1, 2, 3]\n"
   ]
  },
  {
   "cell_type": "markdown",
   "metadata": {},
   "source": [
    "grades redo"
   ]
  },
  {
   "cell_type": "code",
   "execution_count": 8,
   "metadata": {},
   "outputs": [
    {
     "name": "stdout",
     "output_type": "stream",
     "text": [
      "The grade for a score of 85 is B.\n"
     ]
    }
   ],
   "source": [
    "# Example: Grade classification based on score\n",
    "\n",
    "def classify_grade(score):\n",
    "    if score >= 90:\n",
    "        return \"A\"\n",
    "    elif score >= 80:\n",
    "        return \"B\"\n",
    "    elif score >= 70:\n",
    "        return \"C\"\n",
    "    elif score >= 60:\n",
    "        return \"D\"\n",
    "    else:\n",
    "        return \"F\"\n",
    "\n",
    "# Test the function\n",
    "score = 85\n",
    "grade = classify_grade(score)\n",
    "print(f\"The grade for a score of {score} is {grade}.\")\n"
   ]
  },
  {
   "cell_type": "markdown",
   "metadata": {},
   "source": [
    "ternary "
   ]
  },
  {
   "cell_type": "code",
   "execution_count": 9,
   "metadata": {},
   "outputs": [
    {
     "name": "stdout",
     "output_type": "stream",
     "text": [
      "Odd\n"
     ]
    }
   ],
   "source": [
    "number = 7\n",
    "result = \"Even\" if number % 2 == 0 else \"Odd\"\n",
    "print(result)  # Output: Odd\n"
   ]
  },
  {
   "cell_type": "markdown",
   "metadata": {},
   "source": [
    "poi"
   ]
  },
  {
   "cell_type": "code",
   "execution_count": 12,
   "metadata": {},
   "outputs": [
    {
     "name": "stdout",
     "output_type": "stream",
     "text": [
      "\n",
      "1. Add item to inventory\n",
      "2. Display inventory\n",
      "3. Exit\n"
     ]
    },
    {
     "name": "stdout",
     "output_type": "stream",
     "text": [
      "Item added to inventory.\n",
      "Item added to inventory.\n",
      "\n",
      "1. Add item to inventory\n",
      "2. Display inventory\n",
      "3. Exit\n",
      "Inventory:\n",
      "Name: Laptop, Category: Electronics, Price: $1200\n",
      "Name: Shoes, Category: Fashion, Price: $50\n",
      "Name: Book, Category: Books, Price: $20\n",
      "Name: 4, Category: g, Price: $2.0\n",
      "Name: 4, Category: g, Price: $2.0\n",
      "\n",
      "1. Add item to inventory\n",
      "2. Display inventory\n",
      "3. Exit\n",
      "Invalid choice. Please enter a number between 1 and 3.\n",
      "\n",
      "1. Add item to inventory\n",
      "2. Display inventory\n",
      "3. Exit\n",
      "Exiting inventory management.\n"
     ]
    }
   ],
   "source": [
    "def add_item_to_inventory(inventory, name, category, price):\n",
    "    inventory.append([name, category, price])\n",
    "\n",
    "def display_inventory(inventory):\n",
    "    print(\"Inventory:\")\n",
    "    for item in inventory:\n",
    "        print(f\"Name: {item[0]}, Category: {item[1]}, Price: ${item[2]}\")\n",
    "\n",
    "# Sample inventory\n",
    "inventory = [[\"Laptop\", \"Electronics\", 1200],\n",
    "             [\"Shoes\", \"Fashion\", 50],\n",
    "             [\"Book\", \"Books\", 20]]\n",
    "\n",
    "while True:\n",
    "    print(\"\\n1. Add item to inventory\")\n",
    "    print(\"2. Display inventory\")\n",
    "    print(\"3. Exit\")\n",
    "    choice = input(\"Enter your choice (1-3): \")\n",
    "\n",
    "    if choice == \"1\":\n",
    "        name = input(\"Enter item name: \")\n",
    "        category = input(\"Enter item category: \")\n",
    "        price = float(input(\"Enter item price: \"))\n",
    "        add_item_to_inventory(inventory, name, category, price)\n",
    "        print(\"Item added to inventory.\")\n",
    "        \n",
    "        if not name or not category or not price: \n",
    "        #this is to show error\n",
    "            print(\"Data not added. All fields are required.\")\n",
    "        else:\n",
    "            try:\n",
    "                price = float(price)\n",
    "                add_item_to_inventory(inventory, name, category, price)\n",
    "                print(\"Item added to inventory.\")\n",
    "            except ValueError:\n",
    "                print(\"Data not added. Price must be a valid number.\")\n",
    "\n",
    "    elif choice == \"2\":\n",
    "        display_inventory(inventory)\n",
    "    elif choice == \"3\":\n",
    "        print(\"Exiting inventory management.\")\n",
    "        break\n",
    "    else:\n",
    "        print(\"Invalid choice. Please enter a number between 1 and 3.\")\n"
   ]
  }
 ],
 "metadata": {
  "kernelspec": {
   "display_name": "Python 3",
   "language": "python",
   "name": "python3"
  },
  "language_info": {
   "codemirror_mode": {
    "name": "ipython",
    "version": 3
   },
   "file_extension": ".py",
   "mimetype": "text/x-python",
   "name": "python",
   "nbconvert_exporter": "python",
   "pygments_lexer": "ipython3",
   "version": "3.12.3"
  }
 },
 "nbformat": 4,
 "nbformat_minor": 2
}
