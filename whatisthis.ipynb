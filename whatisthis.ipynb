{
 "cells": [
  {
   "cell_type": "code",
   "execution_count": 2,
   "metadata": {},
   "outputs": [
    {
     "name": "stdout",
     "output_type": "stream",
     "text": [
      "Here's the word 3\n"
     ]
    }
   ],
   "source": [
    "def number_of_word(text):\n",
    "    words = text.split()\n",
    "    return len(words)\n",
    "\n",
    "boi = input(\"Please insert your sentence: \")\n",
    "word_count = number_of_word(boi)\n",
    "print( \"Here's the word\", word_count)"
   ]
  },
  {
   "cell_type": "code",
   "execution_count": 18,
   "metadata": {},
   "outputs": [
    {
     "name": "stdout",
     "output_type": "stream",
     "text": [
      "[4, 8, 12, 16, 20]\n"
     ]
    }
   ],
   "source": [
    "def find_multiples(start_range, end_range, multiple):\n",
    "    multiples_list = []\n",
    "    for num in range(start_range, end_range + 1):\n",
    "        if num % multiple == 0:\n",
    "            multiples_list.append(num)\n",
    "    return multiples_list\n",
    "\n",
    "start_range = int(input(\"input start range: \"))\n",
    "end_range = int(input(\"input start range: \"))\n",
    "multiple = int(input(\"insert multiple: \"))\n",
    "\n",
    "result = find_multiples(start_range, end_range, multiple)\n",
    "print(result)\n"
   ]
  },
  {
   "cell_type": "code",
   "execution_count": 55,
   "metadata": {},
   "outputs": [
    {
     "name": "stdout",
     "output_type": "stream",
     "text": [
      "Fibonacci:  F\n"
     ]
    }
   ],
   "source": [
    "def score_to_grade(score):\n",
    "    if score >= 85:\n",
    "        return 'A'\n",
    "    elif score >= 70:\n",
    "        return 'B'\n",
    "    elif score >= 60:\n",
    "        return 'C'\n",
    "    elif score >= 50:\n",
    "        return 'D'\n",
    "    elif score >= 40:\n",
    "        return 'E'\n",
    "    else:\n",
    "        return 'F'\n",
    "    \n",
    "score = int(input())\n",
    "result = score_to_grade(score)\n",
    "print(\"Fibonacci: \", result)\n"
   ]
  },
  {
   "cell_type": "code",
   "execution_count": 48,
   "metadata": {},
   "outputs": [
    {
     "name": "stdout",
     "output_type": "stream",
     "text": [
      "Fibonacci:  34\n"
     ]
    }
   ],
   "source": [
    "def fibonacci(n):\n",
    "    if n <= 0:\n",
    "        return 0\n",
    "    elif n == 1:\n",
    "        return 1\n",
    "    return fibonacci(n-1) + fibonacci(n-2)\n",
    "\n",
    "n = int(input())\n",
    "result = fibonacci(n)\n",
    "print(\"Fibonacci: \", result)\n"
   ]
  },
  {
   "cell_type": "code",
   "execution_count": 57,
   "metadata": {},
   "outputs": [
    {
     "name": "stdout",
     "output_type": "stream",
     "text": [
      "[1, 2, 3]\n",
      "[1, 2, 3]\n",
      "[1, 2, 3]\n"
     ]
    }
   ],
   "source": [
    "list = [1,2,3]\n",
    "print = \n",
    "\n",
    "for i in list:\n",
    "    print(list)"
   ]
  }
 ],
 "metadata": {
  "kernelspec": {
   "display_name": "Python 3",
   "language": "python",
   "name": "python3"
  },
  "language_info": {
   "codemirror_mode": {
    "name": "ipython",
    "version": 3
   },
   "file_extension": ".py",
   "mimetype": "text/x-python",
   "name": "python",
   "nbconvert_exporter": "python",
   "pygments_lexer": "ipython3",
   "version": "3.12.3"
  }
 },
 "nbformat": 4,
 "nbformat_minor": 2
}
